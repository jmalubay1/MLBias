{
    "cells": [
        {
            "cell_type": "code",
            "execution_count": 1,
            "source": [
                "import os\r\n",
                "import numpy as np\r\n",
                "import tensorflow as tf \r\n",
                "from tensorflow import keras \r\n",
                "from keras import layers, models\r\n",
                "from keras.models import Model\r\n",
                "import pandas as pd\r\n",
                "import matplotlib.pyplot as plt\r\n",
                "from sklearn import preprocessing\r\n",
                "from sklearn.metrics import mean_absolute_error\r\n",
                "from sklearn.metrics import mean_squared_error\r\n",
                "from sklearn.model_selection import train_test_split\r\n",
                "\r\n"
            ],
            "outputs": [],
            "metadata": {}
        },
        {
            "cell_type": "code",
            "execution_count": 2,
            "source": [
                "import random\r\n",
                "\r\n",
                "x = []\r\n",
                "y = []\r\n",
                "for i in range(100):\r\n",
                "    x.append(i)\r\n",
                "    y.append(i+random.uniform(i-10, i+10))\r\n",
                "\r\n",
                "plt.scatter(x, y)\r\n",
                "plt.scatter([50], [50], color='red')\r\n",
                "plt.show()\r\n",
                "\r\n",
                "n_att = 1\r\n",
                "\r\n",
                "x = np.asarray(x)\r\n",
                "y = np.asarray(y)\r\n",
                "\r\n",
                "    "
            ],
            "outputs": [
                {
                    "output_type": "display_data",
                    "data": {
                        "text/plain": [
                            "<Figure size 432x288 with 1 Axes>"
                        ],
                        "image/png": "[encoded data removed]"
                    },
                    "metadata": {
                        "needs_background": "light"
                    }
                }
            ],
            "metadata": {}
        },
        {
            "cell_type": "code",
            "execution_count": 3,
            "source": [
                "# # DATA PREPROCESSING\r\n",
                "# # load data\r\n",
                "# DATA_PATH = 'c:/Users/johns/Desktop/propublica/csv/compas-scores-two-years.csv'\r\n",
                "# data = pd.read_csv(DATA_PATH)\r\n",
                "\r\n",
                "# # isolate decile score for truth labels\r\n",
                "# truth_labels = data[['decile_score']]\r\n",
                "\r\n",
                "# # drop unwanted dataframes (like redudant ones such as dates)\r\n",
                "# data = data[['sex', 'age_cat', 'race', 'juv_fel_count',\r\n",
                "#               'juv_misd_count', 'juv_other_count', 'priors_count',\r\n",
                "#               'days_b_screening_arrest', 'c_days_from_compas',\r\n",
                "#               'c_charge_degree', 'is_recid', 'r_charge_degree', 'r_days_from_arrest']]\r\n",
                "\r\n",
                "# # 1-hot encode categorical data like race, sex etc\r\n",
                "# # list object type columns\r\n",
                "# cols = []\r\n",
                "# for i in range(len(data.columns)):\r\n",
                "#     col = data.iloc[:, i]\r\n",
                "#     if col.dtype == 'object':\r\n",
                "#         cols.append(col.name)\r\n",
                "\r\n",
                "# # replace categorical columns with 1 hot encoding columns for each option\r\n",
                "# one_hot_data = pd.get_dummies(data, columns=cols)\r\n",
                "\r\n",
                "# n_att = len(one_hot_data.columns)\r\n",
                "\r\n",
                "# # convert to numpy arrays\r\n",
                "# truth_labels = truth_labels.to_numpy()\r\n",
                "# one_hot_data = one_hot_data.to_numpy()\r\n",
                "\r\n",
                "# # shuffle and split data into training/validation sets 80:20 ratio *before normalization* \r\n",
                "# x_train, x_val, y_train, y_val = train_test_split(one_hot_data, truth_labels, train_size=0.80)\r\n",
                "\r\n",
                "# # scale data\r\n",
                "# y_train=np.reshape(y_train, (-1,1))\r\n",
                "# y_val=np.reshape(y_val, (-1,1))\r\n",
                "# scaler_x = preprocessing.MinMaxScaler()\r\n",
                "# scaler_y = preprocessing.MinMaxScaler()\r\n",
                "# scaler_x.fit(x_train)\r\n",
                "# xtrain_scale=scaler_x.transform(x_train)\r\n",
                "# scaler_x.fit(x_val)\r\n",
                "# xval_scale=scaler_x.transform(x_val)\r\n",
                "# scaler_y.fit(y_train)\r\n",
                "# ytrain_scale=scaler_y.transform(y_train)\r\n",
                "# scaler_y.fit(y_val)\r\n",
                "# yval_scale=scaler_y.transform(y_val)\r\n",
                "\r\n"
            ],
            "outputs": [],
            "metadata": {}
        },
        {
            "cell_type": "code",
            "execution_count": 4,
            "source": [
                "# MODEL IMPLEMENTATION\r\n",
                "\r\n",
                "# DNN generally only have a single hidden layer, as far as n_nuerons usually you want some\r\n",
                "# number between the input and output sizes, one rule of thumb is n_samples / (a *(n_in + n_out))\r\n",
                "# where 2 <= a <= 10, gunna use that and play with it as needed, 16's (for n_in=32, n_out=1) a good \r\n",
                "# starting point. Also think treating this as a regression problem makes sense since the decile \r\n",
                "# scores are not categorical and are very much a scale. (originally were thinking softmax so output\r\n",
                "# activation is now linear)\r\n",
                "n_batch = 20 #32\r\n",
                "n_epochs = 5 #int(len(x_train) / n_batch)\r\n",
                "\r\n",
                "# define model \r\n",
                "model = models.Sequential()\r\n",
                "model.add(layers.Dense(n_att, input_dim=n_att, kernel_initializer='normal', activation='relu'))\r\n",
                "model.add(layers.Dense(16, activation='relu'))\r\n",
                "model.add(layers.Dense(1, activation='linear'))\r\n",
                "#model.add(layers.Dense(1, kernel_initializer='normal'))\r\n",
                "\r\n",
                "model.summary()\r\n",
                "\r\n",
                "model.compile(loss='mse', optimizer='adam', metrics=['mse', 'mae'])\r\n"
            ],
            "outputs": [
                {
                    "output_type": "stream",
                    "name": "stdout",
                    "text": [
                        "Model: \"sequential\"\n",
                        "_________________________________________________________________\n",
                        "Layer (type)                 Output Shape              Param #   \n",
                        "=================================================================\n",
                        "dense (Dense)                (None, 1)                 2         \n",
                        "_________________________________________________________________\n",
                        "dense_1 (Dense)              (None, 16)                32        \n",
                        "_________________________________________________________________\n",
                        "dense_2 (Dense)              (None, 1)                 17        \n",
                        "=================================================================\n",
                        "Total params: 51\n",
                        "Trainable params: 51\n",
                        "Non-trainable params: 0\n",
                        "_________________________________________________________________\n"
                    ]
                }
            ],
            "metadata": {}
        },
        {
            "cell_type": "code",
            "execution_count": 5,
            "source": [
                "# MODEL TRAINING 1\r\n",
                "\r\n",
                "# train model\r\n",
                "# starting with e50 b32 as a jumping off point\r\n",
                "history = model.fit(x, y, epochs=50, batch_size=2, verbose=1, validation_split=0.2)"
            ],
            "outputs": [
                {
                    "output_type": "stream",
                    "name": "stdout",
                    "text": [
                        "Epoch 1/50\n",
                        "40/40 [==============================] - 11s 11ms/step - loss: 7949.9024 - mse: 7949.9024 - mae: 77.6912 - val_loss: 32397.1250 - val_mse: 32397.1250 - val_mae: 179.6469\n",
                        "Epoch 2/50\n",
                        "40/40 [==============================] - 0s 2ms/step - loss: 7803.3200 - mse: 7803.3200 - mae: 76.7885 - val_loss: 32109.5742 - val_mse: 32109.5742 - val_mae: 178.8471\n",
                        "Epoch 3/50\n",
                        "40/40 [==============================] - 0s 2ms/step - loss: 7461.0188 - mse: 7461.0188 - mae: 74.4716 - val_loss: 30677.5215 - val_mse: 30677.5215 - val_mae: 174.8111\n",
                        "Epoch 4/50\n",
                        "40/40 [==============================] - 0s 1ms/step - loss: 7754.9968 - mse: 7754.9968 - mae: 74.5751 - val_loss: 27773.5566 - val_mse: 27773.5566 - val_mae: 166.3264\n",
                        "Epoch 5/50\n",
                        "40/40 [==============================] - 0s 2ms/step - loss: 7014.9082 - mse: 7014.9082 - mae: 72.3724 - val_loss: 23779.6934 - val_mse: 23779.6934 - val_mae: 153.8948\n",
                        "Epoch 6/50\n",
                        "40/40 [==============================] - 0s 2ms/step - loss: 5602.3218 - mse: 5602.3218 - mae: 65.3726 - val_loss: 18890.0312 - val_mse: 18890.0312 - val_mae: 137.1479\n",
                        "Epoch 7/50\n",
                        "40/40 [==============================] - 0s 2ms/step - loss: 4924.9754 - mse: 4924.9754 - mae: 61.5986 - val_loss: 13599.1328 - val_mse: 13599.1328 - val_mae: 116.3400\n",
                        "Epoch 8/50\n",
                        "40/40 [==============================] - 0s 2ms/step - loss: 3504.6903 - mse: 3504.6903 - mae: 51.7167 - val_loss: 8770.9473 - val_mse: 8770.9473 - val_mae: 93.3855\n",
                        "Epoch 9/50\n",
                        "40/40 [==============================] - 0s 3ms/step - loss: 1835.1014 - mse: 1835.1014 - mae: 36.1791 - val_loss: 4890.1729 - val_mse: 4890.1729 - val_mae: 69.6432\n",
                        "Epoch 10/50\n",
                        "40/40 [==============================] - 0s 2ms/step - loss: 779.2498 - mse: 779.2498 - mae: 23.7267 - val_loss: 2177.1587 - val_mse: 2177.1587 - val_mae: 46.2897\n",
                        "Epoch 11/50\n",
                        "40/40 [==============================] - 0s 2ms/step - loss: 427.3264 - mse: 427.3264 - mae: 17.5600 - val_loss: 773.3078 - val_mse: 773.3078 - val_mae: 27.2067\n",
                        "Epoch 12/50\n",
                        "40/40 [==============================] - 0s 2ms/step - loss: 140.0158 - mse: 140.0158 - mae: 9.9896 - val_loss: 271.4346 - val_mse: 271.4346 - val_mae: 15.4172\n",
                        "Epoch 13/50\n",
                        "40/40 [==============================] - 0s 2ms/step - loss: 55.6596 - mse: 55.6596 - mae: 6.4836 - val_loss: 102.8942 - val_mse: 102.8942 - val_mae: 8.5617\n",
                        "Epoch 14/50\n",
                        "40/40 [==============================] - 0s 2ms/step - loss: 36.5742 - mse: 36.5742 - mae: 5.0041 - val_loss: 68.0586 - val_mse: 68.0586 - val_mae: 7.1189\n",
                        "Epoch 15/50\n",
                        "40/40 [==============================] - 0s 2ms/step - loss: 44.2131 - mse: 44.2131 - mae: 5.8658 - val_loss: 50.6321 - val_mse: 50.6321 - val_mae: 6.4179\n",
                        "Epoch 16/50\n",
                        "40/40 [==============================] - 0s 2ms/step - loss: 36.8889 - mse: 36.8889 - mae: 5.0389 - val_loss: 48.1103 - val_mse: 48.1103 - val_mae: 6.2857\n",
                        "Epoch 17/50\n",
                        "40/40 [==============================] - 0s 2ms/step - loss: 40.5203 - mse: 40.5203 - mae: 5.4847 - val_loss: 47.7337 - val_mse: 47.7337 - val_mae: 6.2649\n",
                        "Epoch 18/50\n",
                        "40/40 [==============================] - 0s 2ms/step - loss: 37.2065 - mse: 37.2065 - mae: 5.3746 - val_loss: 44.3987 - val_mse: 44.3987 - val_mae: 6.0621\n",
                        "Epoch 19/50\n",
                        "40/40 [==============================] - 0s 2ms/step - loss: 39.4645 - mse: 39.4645 - mae: 5.5052 - val_loss: 47.1342 - val_mse: 47.1342 - val_mae: 6.2311\n",
                        "Epoch 20/50\n",
                        "40/40 [==============================] - 0s 2ms/step - loss: 35.6096 - mse: 35.6096 - mae: 5.1011 - val_loss: 48.6103 - val_mse: 48.6103 - val_mae: 6.3135\n",
                        "Epoch 21/50\n",
                        "40/40 [==============================] - 0s 2ms/step - loss: 41.9279 - mse: 41.9279 - mae: 5.7436 - val_loss: 46.1938 - val_mse: 46.1938 - val_mae: 6.1760\n",
                        "Epoch 22/50\n",
                        "40/40 [==============================] - 0s 2ms/step - loss: 37.8933 - mse: 37.8933 - mae: 5.3546 - val_loss: 45.3320 - val_mse: 45.3320 - val_mae: 6.1230\n",
                        "Epoch 23/50\n",
                        "40/40 [==============================] - 0s 2ms/step - loss: 43.3661 - mse: 43.3661 - mae: 5.6147 - val_loss: 46.0027 - val_mse: 46.0027 - val_mae: 6.1646\n",
                        "Epoch 24/50\n",
                        "40/40 [==============================] - 0s 2ms/step - loss: 35.2721 - mse: 35.2721 - mae: 5.1647 - val_loss: 47.8006 - val_mse: 47.8006 - val_mae: 6.2696\n",
                        "Epoch 25/50\n",
                        "40/40 [==============================] - 0s 2ms/step - loss: 37.9372 - mse: 37.9372 - mae: 5.2546 - val_loss: 46.5468 - val_mse: 46.5468 - val_mae: 6.1976\n",
                        "Epoch 26/50\n",
                        "40/40 [==============================] - 0s 2ms/step - loss: 44.6899 - mse: 44.6899 - mae: 5.6701 - val_loss: 47.6225 - val_mse: 47.6225 - val_mae: 6.2599\n",
                        "Epoch 27/50\n",
                        "40/40 [==============================] - 0s 2ms/step - loss: 35.6920 - mse: 35.6920 - mae: 5.0456 - val_loss: 47.5876 - val_mse: 47.5876 - val_mae: 6.2581\n",
                        "Epoch 28/50\n",
                        "40/40 [==============================] - 0s 2ms/step - loss: 39.9869 - mse: 39.9869 - mae: 5.4280 - val_loss: 50.1737 - val_mse: 50.1737 - val_mae: 6.3968\n",
                        "Epoch 29/50\n",
                        "40/40 [==============================] - 0s 2ms/step - loss: 36.7058 - mse: 36.7058 - mae: 5.2306 - val_loss: 46.7828 - val_mse: 46.7828 - val_mae: 6.2121\n",
                        "Epoch 30/50\n",
                        "40/40 [==============================] - 0s 2ms/step - loss: 33.0674 - mse: 33.0674 - mae: 4.9782 - val_loss: 48.4314 - val_mse: 48.4314 - val_mae: 6.3053\n",
                        "Epoch 31/50\n",
                        "40/40 [==============================] - 0s 2ms/step - loss: 33.6099 - mse: 33.6099 - mae: 4.9267 - val_loss: 46.8403 - val_mse: 46.8403 - val_mae: 6.2157\n",
                        "Epoch 32/50\n",
                        "40/40 [==============================] - 0s 2ms/step - loss: 37.3843 - mse: 37.3843 - mae: 5.3251 - val_loss: 46.2771 - val_mse: 46.2771 - val_mae: 6.1825\n",
                        "Epoch 33/50\n",
                        "40/40 [==============================] - 0s 2ms/step - loss: 43.6106 - mse: 43.6106 - mae: 5.7324 - val_loss: 43.5396 - val_mse: 43.5396 - val_mae: 6.0048\n",
                        "Epoch 34/50\n",
                        "40/40 [==============================] - 0s 2ms/step - loss: 41.7403 - mse: 41.7403 - mae: 5.6615 - val_loss: 45.9919 - val_mse: 45.9919 - val_mae: 6.1655\n",
                        "Epoch 35/50\n",
                        "40/40 [==============================] - 0s 2ms/step - loss: 44.0226 - mse: 44.0226 - mae: 5.6416 - val_loss: 43.1915 - val_mse: 43.1915 - val_mae: 5.9801\n",
                        "Epoch 36/50\n",
                        "40/40 [==============================] - 0s 2ms/step - loss: 43.8133 - mse: 43.8133 - mae: 5.7671 - val_loss: 47.3386 - val_mse: 47.3386 - val_mae: 6.2454\n",
                        "Epoch 37/50\n",
                        "40/40 [==============================] - 0s 2ms/step - loss: 35.0407 - mse: 35.0407 - mae: 5.0994 - val_loss: 44.7139 - val_mse: 44.7139 - val_mae: 6.0852\n",
                        "Epoch 38/50\n",
                        "40/40 [==============================] - 0s 2ms/step - loss: 39.3608 - mse: 39.3608 - mae: 5.4252 - val_loss: 44.3289 - val_mse: 44.3289 - val_mae: 6.0598\n",
                        "Epoch 39/50\n",
                        "40/40 [==============================] - 0s 2ms/step - loss: 42.7789 - mse: 42.7789 - mae: 5.7616 - val_loss: 44.5273 - val_mse: 44.5273 - val_mae: 6.0732\n",
                        "Epoch 40/50\n",
                        "40/40 [==============================] - 0s 2ms/step - loss: 46.6191 - mse: 46.6191 - mae: 6.1904 - val_loss: 44.7059 - val_mse: 44.7059 - val_mae: 6.0851\n",
                        "Epoch 41/50\n",
                        "40/40 [==============================] - 0s 2ms/step - loss: 28.9888 - mse: 28.9888 - mae: 4.7599 - val_loss: 46.0628 - val_mse: 46.0628 - val_mae: 6.1709\n",
                        "Epoch 42/50\n",
                        "40/40 [==============================] - 0s 2ms/step - loss: 38.2699 - mse: 38.2699 - mae: 5.4647 - val_loss: 42.8321 - val_mse: 42.8321 - val_mae: 5.9544\n",
                        "Epoch 43/50\n",
                        "40/40 [==============================] - 0s 2ms/step - loss: 35.8050 - mse: 35.8050 - mae: 5.1607 - val_loss: 45.0605 - val_mse: 45.0605 - val_mae: 6.1085\n",
                        "Epoch 44/50\n",
                        "40/40 [==============================] - 0s 2ms/step - loss: 40.6800 - mse: 40.6800 - mae: 5.5805 - val_loss: 41.4802 - val_mse: 41.4802 - val_mae: 5.8477\n",
                        "Epoch 45/50\n",
                        "40/40 [==============================] - 0s 2ms/step - loss: 40.4780 - mse: 40.4780 - mae: 5.4030 - val_loss: 42.6376 - val_mse: 42.6376 - val_mae: 5.9400\n",
                        "Epoch 46/50\n",
                        "40/40 [==============================] - 0s 2ms/step - loss: 33.3893 - mse: 33.3893 - mae: 5.0490 - val_loss: 44.1891 - val_mse: 44.1891 - val_mae: 6.0514\n",
                        "Epoch 47/50\n",
                        "40/40 [==============================] - 0s 2ms/step - loss: 42.4324 - mse: 42.4324 - mae: 5.7585 - val_loss: 43.7040 - val_mse: 43.7040 - val_mae: 6.0180\n",
                        "Epoch 48/50\n",
                        "40/40 [==============================] - 0s 2ms/step - loss: 33.5048 - mse: 33.5048 - mae: 4.8831 - val_loss: 43.0001 - val_mse: 43.0001 - val_mae: 5.9675\n",
                        "Epoch 49/50\n",
                        "40/40 [==============================] - 0s 2ms/step - loss: 40.8160 - mse: 40.8160 - mae: 5.5734 - val_loss: 42.6154 - val_mse: 42.6154 - val_mae: 5.9387\n",
                        "Epoch 50/50\n",
                        "40/40 [==============================] - 0s 2ms/step - loss: 40.6423 - mse: 40.6423 - mae: 5.6160 - val_loss: 43.2829 - val_mse: 43.2829 - val_mae: 5.9884\n"
                    ]
                }
            ],
            "metadata": {}
        },
        {
            "cell_type": "code",
            "execution_count": 8,
            "source": [
                "reg_x = []\r\n",
                "reg_y = []\r\n",
                "for i in range(10):\r\n",
                "    n = i * 20\r\n",
                "    reg_x.append(model.predict(np.asarray([n]))[0][0])\r\n",
                "    reg_y.append(n)\r\n",
                "\r\n",
                "\r\n",
                "plt.scatter(x, y)\r\n",
                "plt.plot(reg_y, reg_x, color='red')\r\n",
                "plt.show()\r\n"
            ],
            "outputs": [
                {
                    "output_type": "display_data",
                    "data": {
                        "text/plain": [
                            "<Figure size 432x288 with 1 Axes>"
                        ],
                        "image/png": "[encoded data removed]"
                    },
                    "metadata": {
                        "needs_background": "light"
                    }
                }
            ],
            "metadata": {}
        },
        {
            "cell_type": "code",
            "execution_count": 7,
            "source": [
                "# MODEL TRAINING 2\r\n",
                "\r\n",
                "# havent used keras regressor before but having some kind of trouble with it\r\n",
                "\r\n",
                "# evaluate model\r\n",
                "# from keras.wrappers.scikit_learn import KerasRegressor\r\n",
                "# from sklearn.model_selection import cross_val_score\r\n",
                "# from sklearn.model_selection import KFold\r\n",
                "\r\n",
                "# estimator = KerasRegressor(build_fn=model, epochs=n_epochs, batch_size=n_batch, verbose=0)\r\n",
                "# kfold = KFold(n_splits=10)\r\n",
                "# results = cross_val_score(estimator, x_train, y_train, cv=kfold)\r\n",
                "# print(\"model mean and std_dev: %.2f (%.2f) MSE\" % (results.mean(), results.std()))"
            ],
            "outputs": [
                {
                    "output_type": "error",
                    "ename": "NameError",
                    "evalue": "name 'x_train' is not defined",
                    "traceback": [
                        "\u001b[1;31m---------------------------------------------------------------------------\u001b[0m",
                        "\u001b[1;31mNameError\u001b[0m                                 Traceback (most recent call last)",
                        "\u001b[1;32m<ipython-input-7-4c805a726730>\u001b[0m in \u001b[0;36m<module>\u001b[1;34m\u001b[0m\n\u001b[0;32m     10\u001b[0m \u001b[0mestimator\u001b[0m \u001b[1;33m=\u001b[0m \u001b[0mKerasRegressor\u001b[0m\u001b[1;33m(\u001b[0m\u001b[0mbuild_fn\u001b[0m\u001b[1;33m=\u001b[0m\u001b[0mmodel\u001b[0m\u001b[1;33m,\u001b[0m \u001b[0mepochs\u001b[0m\u001b[1;33m=\u001b[0m\u001b[0mn_epochs\u001b[0m\u001b[1;33m,\u001b[0m \u001b[0mbatch_size\u001b[0m\u001b[1;33m=\u001b[0m\u001b[0mn_batch\u001b[0m\u001b[1;33m,\u001b[0m \u001b[0mverbose\u001b[0m\u001b[1;33m=\u001b[0m\u001b[1;36m0\u001b[0m\u001b[1;33m)\u001b[0m\u001b[1;33m\u001b[0m\u001b[1;33m\u001b[0m\u001b[0m\n\u001b[0;32m     11\u001b[0m \u001b[0mkfold\u001b[0m \u001b[1;33m=\u001b[0m \u001b[0mKFold\u001b[0m\u001b[1;33m(\u001b[0m\u001b[0mn_splits\u001b[0m\u001b[1;33m=\u001b[0m\u001b[1;36m10\u001b[0m\u001b[1;33m)\u001b[0m\u001b[1;33m\u001b[0m\u001b[1;33m\u001b[0m\u001b[0m\n\u001b[1;32m---> 12\u001b[1;33m \u001b[0mresults\u001b[0m \u001b[1;33m=\u001b[0m \u001b[0mcross_val_score\u001b[0m\u001b[1;33m(\u001b[0m\u001b[0mestimator\u001b[0m\u001b[1;33m,\u001b[0m \u001b[0mx_train\u001b[0m\u001b[1;33m,\u001b[0m \u001b[0my_train\u001b[0m\u001b[1;33m,\u001b[0m \u001b[0mcv\u001b[0m\u001b[1;33m=\u001b[0m\u001b[0mkfold\u001b[0m\u001b[1;33m)\u001b[0m\u001b[1;33m\u001b[0m\u001b[1;33m\u001b[0m\u001b[0m\n\u001b[0m\u001b[0;32m     13\u001b[0m \u001b[0mprint\u001b[0m\u001b[1;33m(\u001b[0m\u001b[1;34m\"model mean and std_dev: %.2f (%.2f) MSE\"\u001b[0m \u001b[1;33m%\u001b[0m \u001b[1;33m(\u001b[0m\u001b[0mresults\u001b[0m\u001b[1;33m.\u001b[0m\u001b[0mmean\u001b[0m\u001b[1;33m(\u001b[0m\u001b[1;33m)\u001b[0m\u001b[1;33m,\u001b[0m \u001b[0mresults\u001b[0m\u001b[1;33m.\u001b[0m\u001b[0mstd\u001b[0m\u001b[1;33m(\u001b[0m\u001b[1;33m)\u001b[0m\u001b[1;33m)\u001b[0m\u001b[1;33m)\u001b[0m\u001b[1;33m\u001b[0m\u001b[1;33m\u001b[0m\u001b[0m\n",
                        "\u001b[1;31mNameError\u001b[0m: name 'x_train' is not defined"
                    ]
                }
            ],
            "metadata": {}
        }
    ],
    "metadata": {
        "orig_nbformat": 4,
        "language_info": {
            "name": "python",
            "version": "3.8.5",
            "mimetype": "text/x-python",
            "codemirror_mode": {
                "name": "ipython",
                "version": 3
            },
            "pygments_lexer": "ipython3",
            "nbconvert_exporter": "python",
            "file_extension": ".py"
        },
        "kernelspec": {
            "name": "python3",
            "display_name": "Python 3.8.5 64-bit"
        },
        "interpreter": {
            "hash": "5ee19cf5417b771657d090c90a22d72bc0cae4115c1bcb524407b99a6b053f75"
        }
    },
    "nbformat": 4,
    "nbformat_minor": 2
}